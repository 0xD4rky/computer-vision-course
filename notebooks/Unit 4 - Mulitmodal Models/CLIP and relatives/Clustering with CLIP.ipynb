{
 "cells": [
  {
   "cell_type": "markdown",
   "id": "4f4b9be9",
   "metadata": {},
   "source": [
    "# Image clustering with CLIP\n",
    "\n",
    "In this notebook, we explore how to use CLIP and FAISS to cluster images.\n",
    "We will apply the following steps:\n",
    "* Install required packages\n",
    "* Load a dataset (CIFAR10 here)\n",
    "* Make 10 clusters as there are 10 classes in the dataset\n",
    "* Display distribution of the 10 classes in the clusters"
   ]
  },
  {
   "cell_type": "markdown",
   "id": "6a93ebdf",
   "metadata": {},
   "source": [
    "## Install required packages"
   ]
  },
  {
   "cell_type": "code",
   "execution_count": null,
   "id": "647e1588",
   "metadata": {
    "scrolled": false
   },
   "outputs": [],
   "source": [
    "pip install transformers Pillow torch datasets matplotlib scikit-learn\n"
   ]
  },
  {
   "cell_type": "markdown",
   "id": "632da261",
   "metadata": {},
   "source": [
    "## Load CLIP: model and processor using transformers"
   ]
  },
  {
   "cell_type": "code",
   "execution_count": 89,
   "id": "202a372f",
   "metadata": {
    "scrolled": false
   },
   "outputs": [],
   "source": [
    "#Import packages\n",
    "import torch\n",
    "from PIL import Image\n",
    "from transformers import AutoProcessor, CLIPModel, AutoImageProcessor, AutoModel, AutoTokenizer\n",
    "import faiss\n",
    "import numpy as np\n",
    "import time\n",
    "\n",
    "#Define device (GPU or CPU)\n",
    "device = torch.device('cuda' if torch.cuda.is_available() else \"cpu\")\n",
    "\n",
    "#Load CLIP model, processor and tokenizer\n",
    "processor = AutoProcessor.from_pretrained(\"openai/clip-vit-base-patch32\")\n",
    "model = CLIPModel.from_pretrained(\"openai/clip-vit-base-patch32\").to(device)"
   ]
  },
  {
   "cell_type": "markdown",
   "id": "91a0a0b3",
   "metadata": {},
   "source": [
    "## Load CIFAR 10 dataset\n",
    "We use this dataset as it has 10 pre-defined classes"
   ]
  },
  {
   "cell_type": "code",
   "execution_count": 54,
   "id": "d8a2fdf3",
   "metadata": {
    "scrolled": true
   },
   "outputs": [
    {
     "name": "stderr",
     "output_type": "stream",
     "text": [
      "Found cached dataset cifar10 (/home/alm/.cache/huggingface/datasets/cifar10/plain_text/1.0.0/447d6ec4733dddd1ce3bb577c7166b986eaa4c538dcd9e805ba61f35674a9de4)\n",
      "100%|████████████████████████████████████████████████████████████████████████████████████████████████████| 2/2 [00:00<00:00, 996.27it/s]\n"
     ]
    },
    {
     "data": {
      "image/png": "[encoded data removed]",
      "text/plain": [
       "<PIL.PngImagePlugin.PngImageFile image mode=RGB size=32x32>"
      ]
     },
     "metadata": {},
     "output_type": "display_data"
    }
   ],
   "source": [
    "from datasets import load_dataset\n",
    "\n",
    "#Load cifar10 dataset\n",
    "dataset = load_dataset(\"cifar10\")\n",
    "\n",
    "#Display an image\n",
    "display(dataset['train'][0]['img'])"
   ]
  },
  {
   "cell_type": "markdown",
   "id": "ba97aac9",
   "metadata": {},
   "source": [
    "## Extract the features of all images in the test set (10K images) and store them in a FAISS index"
   ]
  },
  {
   "cell_type": "code",
   "execution_count": 55,
   "id": "43599042",
   "metadata": {},
   "outputs": [],
   "source": [
    "#Add a vector to FAISS index\n",
    "def add_vector_to_index(embedding, index):\n",
    "    #convert embedding to numpy\n",
    "    vector = embedding.detach().cpu().numpy()\n",
    "    #Convert to float32 numpy\n",
    "    vector = np.float32(vector)\n",
    "    #Normalize vector: important\n",
    "    faiss.normalize_L2(vector)\n",
    "    #Add to index\n",
    "    index.add(vector)\n",
    "\n",
    "#Extract features of a given image\n",
    "def extract_features_clip(image):\n",
    "    with torch.no_grad():\n",
    "        inputs = processor(images=image, return_tensors=\"pt\").to(device)\n",
    "        image_features = model.get_image_features(**inputs)\n",
    "        return image_features\n",
    "\n",
    "#FAISS index\n",
    "index = faiss.IndexFlatL2(512)\n",
    "\n",
    "#Process the dataset to extract all features and store in index\n",
    "for image in dataset['test']:\n",
    "    clip_features = extract_features_clip(image['img'])\n",
    "    add_vector_to_index(clip_features,index)\n",
    "    \n",
    "#Write index locally. Not needed after but can be useful for future retrieval\n",
    "faiss.write_index(index,\"clip.index\")"
   ]
  },
  {
   "cell_type": "markdown",
   "id": "89549134",
   "metadata": {},
   "source": [
    "## Make 10 clusters"
   ]
  },
  {
   "cell_type": "code",
   "execution_count": 90,
   "id": "5f8b4b34",
   "metadata": {},
   "outputs": [
    {
     "name": "stdout",
     "output_type": "stream",
     "text": [
      "Sampling a subset of 2560 / 10000 for training\n",
      "Clustering 2560 points in 512D to 10 clusters, redo 1 times, 50 iterations\n",
      "  Preprocessing in 0.00 s\n",
      "Clustering done in  0.06171870231628418 objective=418.746 imbalance=1.122 nsplit=0       \n",
      "(array([0.13438654, 0.11428928, 0.15640831, ..., 0.12223983, 0.19230473,\n",
      "       0.09824598], dtype=float32), array([4, 3, 3, ..., 6, 0, 2]))\n",
      "[4 3 3 ... 6 0 2]\n",
      "(10000,)\n",
      "\n"
     ]
    }
   ],
   "source": [
    "#Retrieve the vectors\n",
    "vectors = index.reconstruct_n(0, 10000)\n",
    "\n",
    "#Define clusters and parameters\n",
    "x= vectors\n",
    "ncentroids = 10\n",
    "niter = 50\n",
    "verbose = True\n",
    "d = x.shape[1]\n",
    "\n",
    "t0=time.time()\n",
    "kmeans = faiss.Kmeans(d, ncentroids, niter=niter, verbose=verbose)\n",
    "kmeans.train(x)\n",
    "print('Clustering done in ', time.time()-t0)\n",
    "\n",
    "cluster_assignments = kmeans.assign(vectors)\n",
    "print(cluster_assignments)\n",
    "clusters_ind = cluster_assignments[1]\n",
    "print(clusters_ind)\n",
    "print(clusters_ind.shape)"
   ]
  },
  {
   "cell_type": "markdown",
   "id": "48e1d5b8",
   "metadata": {},
   "source": [
    "## Create a 10x10 matrix to store the distribution of the clusters"
   ]
  },
  {
   "cell_type": "code",
   "execution_count": 85,
   "id": "8a0e850c",
   "metadata": {},
   "outputs": [
    {
     "name": "stdout",
     "output_type": "stream",
     "text": [
      "[[0 0 0 0 0 0 0 0 0 0]\n",
      " [0 0 0 0 0 0 0 0 0 0]\n",
      " [0 0 0 0 0 0 0 0 0 0]\n",
      " [0 0 0 0 0 0 0 0 0 0]\n",
      " [0 0 0 0 0 0 0 0 0 0]\n",
      " [0 0 0 0 0 0 0 0 0 0]\n",
      " [0 0 0 0 0 0 0 0 0 0]\n",
      " [0 0 0 0 0 0 0 0 0 0]\n",
      " [0 0 0 0 0 0 0 0 0 0]\n",
      " [0 0 0 0 0 0 0 0 0 0]]\n"
     ]
    }
   ],
   "source": [
    "distribution = np.zeros((10, 10), dtype=int)\n",
    "print(distribution)"
   ]
  },
  {
   "cell_type": "code",
   "execution_count": 86,
   "id": "3350c563",
   "metadata": {},
   "outputs": [
    {
     "name": "stdout",
     "output_type": "stream",
     "text": [
      "[[821   3   9   1   1   0   0   1  26   0]\n",
      " [  0   0  61  12 764  14   6  26   0   0]\n",
      " [  0   0   1   0   9   3   0 861   0   0]\n",
      " [ 15   0   2   0   0   0   0   0 912   6]\n",
      " [132  20 148 179 155 131 244  99  45  37]\n",
      " [ 13   0 102  41  59   6 736   1   2   1]\n",
      " [  0   0   3  19   2 780   2   8   0   0]\n",
      " [ 12 976   0   2   1   2   0   0  15 956]\n",
      " [  0   1   9 743   7  62   8   3   0   0]\n",
      " [  7   0 665   3   2   2   4   1   0   0]]\n"
     ]
    }
   ],
   "source": [
    "for vector_index,cluster_nb in enumerate(ind):\n",
    "    label = dataset['test'][vector_index]['label']\n",
    "    distribution[cluster_nb][label]+=1\n",
    " \n",
    "print(distribution)"
   ]
  },
  {
   "cell_type": "markdown",
   "id": "9efeec42",
   "metadata": {},
   "source": [
    "## Compute number of values in each clusters"
   ]
  },
  {
   "cell_type": "code",
   "execution_count": 87,
   "id": "08e340ef",
   "metadata": {},
   "outputs": [
    {
     "name": "stdout",
     "output_type": "stream",
     "text": [
      "Sum of each row:\n",
      "[ 862  883  874  935 1190  961  814 1964  833  684]\n"
     ]
    }
   ],
   "source": [
    "row_sums = np.sum(repartition, axis=1)\n",
    "\n",
    "# Print the result\n",
    "print(\"Sum of each row:\")\n",
    "print(row_sums)"
   ]
  },
  {
   "cell_type": "markdown",
   "id": "4f286e1b",
   "metadata": {},
   "source": [
    "## Plot repartition of the vectors in the clusters"
   ]
  },
  {
   "cell_type": "code",
   "execution_count": 88,
   "id": "227c8fbf",
   "metadata": {},
   "outputs": [
    {
     "data": {
      "image/png": "[encoded data removed]",
      "text/plain": [
       "<Figure size 640x480 with 2 Axes>"
      ]
     },
     "metadata": {},
     "output_type": "display_data"
    }
   ],
   "source": [
    "from sklearn.metrics import confusion_matrix, ConfusionMatrixDisplay\n",
    "import matplotlib.pyplot as plt\n",
    "\n",
    "disp = ConfusionMatrixDisplay(confusion_matrix=repartition)\n",
    "disp.plot()\n",
    "plt.xlabel('Cluster ID')\n",
    "plt.ylabel('')\n",
    "plt.show()"
   ]
  }
 ],
 "metadata": {
  "kernelspec": {
   "display_name": "Python 3 (ipykernel)",
   "language": "python",
   "name": "python3"
  },
  "language_info": {
   "codemirror_mode": {
    "name": "ipython",
    "version": 3
   },
   "file_extension": ".py",
   "mimetype": "text/x-python",
   "name": "python",
   "nbconvert_exporter": "python",
   "pygments_lexer": "ipython3",
   "version": "3.10.12"
  }
 },
 "nbformat": 4,
 "nbformat_minor": 5
}
